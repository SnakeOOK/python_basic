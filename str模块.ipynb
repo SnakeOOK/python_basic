{
 "cells": [
  {
   "cell_type": "markdown",
   "metadata": {},
   "source": [
    "# str 字符串\n",
    "- str\n",
    "- 转义字符\n",
    "- 格式化\n",
    "- 内建函数"
   ]
  },
  {
   "cell_type": "markdown",
   "metadata": {},
   "source": [
    "## 转义字符\n",
    "- 用一个特色的方法表示一系列不方便写出的内容，比如回车键，换行符\n",
    "- 借助反斜杆字符，一旦字符串中出现反斜杆，则反斜杆后面一个或几个字符\n",
    "  表示已经不是原来的意思了，进行了转义\n",
    "- 不同系统对换行操作有不同表示\n",
    "  - Windows:\\n\n",
    "  - Linux:\\r\\n"
   ]
  },
  {
   "cell_type": "markdown",
   "metadata": {},
   "source": [
    "# 格式化\n",
    "- 传统格式化：用%表示，例：%s,%d,%f\n",
    "- format格式化:使用函数形式进行格式化，代替以前的百分号（比较好用）"
   ]
  },
  {
   "cell_type": "code",
   "execution_count": 1,
   "metadata": {},
   "outputs": [
    {
     "name": "stdout",
     "output_type": "stream",
     "text": [
      "77加88等于多少？\n",
      "77加88等于多少？\n"
     ]
    }
   ],
   "source": [
    "# format 格式化实例\n",
    "a = 77\n",
    "b = 88\n",
    "print('{}加{}等于多少？'.format(a,b))\n",
    "# format 新式写法：\n",
    "print(f'{a}加{b}等于多少？')"
   ]
  },
  {
   "cell_type": "markdown",
   "metadata": {},
   "source": [
    "# str内置函数\n",
    "- 字符串查找类:find,index\n",
    "- find:查找字符串中是否包含一个子串\n",
    "- index:跟find的唯一区别是index如果找不到会引发异常\n",
    "- lfind,rfind:从左开始查找或从右开始查找\n",
    "### 判断类函数\n",
    "- 此类函数的特点是一般都用is开头，比如islower\n",
    "- islower/isupper:判断是否是大写或小写\n",
    "- isalpha:判断是否是字母，需要注意：\n",
    "  - 汉字被认为是alpha,所以不能作为区分字母汉字的标识，\n",
    "  区分中英文使用unicode码\n",
    "  - 注意区别，防坑\n",
    "- isdigit,isnumeric,isdecimal三个判断数字的函数\n",
    "  - 不建议使用\n",
    "### 内容判断类\n",
    "- startswith/endswith:是否以xxx开头或结尾\n",
    "  - suffix:被检查的字符串，必须有\n",
    "  - start:检查范围的开始范围\n",
    "  - end:检查范围的结束范围\n",
    "### 操作类函数\n",
    "- format\n",
    "- strip:这个函数主要作用是删除字符串两边的空格，可以自己指定去删除字符串两边的哪个字符，默认空格。\n",
    "- lstrip/rstrip:删除字符串左边或右边制定字符，默认空格。需要注意此处删除是指从头开始符合条件的连续字符\n",
    "- join:这个函数主要是对字符串进行拼接"
   ]
  },
  {
   "cell_type": "code",
   "execution_count": 3,
   "metadata": {},
   "outputs": [
    {
     "name": "stdout",
     "output_type": "stream",
     "text": [
      "True\n",
      "False\n"
     ]
    }
   ],
   "source": [
    "a = 'I'\n",
    "b = 'love'\n",
    "c = 'python'\n",
    "s = 'I love python'\n",
    "print(s.startswith(a))\n",
    "print(s.endswith(b))"
   ]
  },
  {
   "cell_type": "markdown",
   "metadata": {},
   "source": [
    "# 内置函数的概念\n",
    "- help:帮助函数\n",
    "- type:显示变量的类型\n",
    "- id:显示变量的id\n",
    "- print:打印内容"
   ]
  }
 ],
 "metadata": {
  "kernelspec": {
   "display_name": "Python 3",
   "language": "python",
   "name": "python3"
  },
  "language_info": {
   "codemirror_mode": {
    "name": "ipython",
    "version": 3
   },
   "file_extension": ".py",
   "mimetype": "text/x-python",
   "name": "python",
   "nbconvert_exporter": "python",
   "pygments_lexer": "ipython3",
   "version": "3.7.4"
  }
 },
 "nbformat": 4,
 "nbformat_minor": 2
}
