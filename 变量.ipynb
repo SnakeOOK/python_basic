{
 "cells": [
  {
   "cell_type": "markdown",
   "metadata": {},
   "source": [
    "# 变量类型\n",
    "- 严格意义上讲，python只有一个类型\n",
    "- 标准数据类型六种\n",
    "    - 数字 number\n",
    "    - 字符串 str\n",
    "    - 列表 list\n",
    "    - 元组 tuple\n",
    "    - 字典 dict\n",
    "    - 集合 set"
   ]
  },
  {
   "cell_type": "markdown",
   "metadata": {},
   "source": [
    "# 第一次用Jupyter Notebook感觉很不错\n",
    "- 要经常用，熟练它\n",
    "- 多做笔记"
   ]
  },
  {
   "cell_type": "code",
   "execution_count": 2,
   "metadata": {},
   "outputs": [
    {
     "name": "stdout",
     "output_type": "stream",
     "text": [
      "很舒服\n"
     ]
    }
   ],
   "source": [
    "print(\"很舒服\")"
   ]
  },
  {
   "cell_type": "markdown",
   "metadata": {},
   "source": [
    "# 数字类型 Number\n",
    "- python中数字没有大小限制\n",
    "# 常见数字分类\n",
    "- 整数\n",
    "  - 没有小数部分\n",
    "  - 包含正数，负数，0\n",
    "  - 二进制\n",
    "      - 以0b开头的01串\n",
    "      - 例如：0b110\n",
    "  - 八进制\n",
    "      - 以0o开头的 0到7之间的数字串\n",
    "      - 例如：0o71\n",
    "  - 十六进制\n",
    "      - 以0x组成的由 0-9，a-f构成的串\n",
    "      - 例如：0xffff\n",
    "- 浮点数\n",
    "  - 就是通俗意义上的小数\n",
    "  - 常见的案例格式\n",
    "    - 3.14159\n",
    "    - 3.\n",
    "    - 0.4\n",
    "    - .4\n",
    "- 科学计数法\n",
    "  - 与数学定义一致\n",
    "  - 写法：e后面+整数用来表示10的指数\n",
    "  - 例：1.84e2\n",
    "- 复数complex\n",
    "  - 与数学定义一致\n",
    "  - 复数的虚部用j/J表示\n",
    "  - 例：\n",
    "    - 5+4j\n",
    "    - 4j\n",
    "    - (4j)"
   ]
  },
  {
   "cell_type": "code",
   "execution_count": 1,
   "metadata": {},
   "outputs": [
    {
     "name": "stdout",
     "output_type": "stream",
     "text": [
      "6\n",
      "57\n",
      "65535\n",
      "184.0\n"
     ]
    }
   ],
   "source": [
    "#二进制\n",
    "a1 = 0b110\n",
    "print(a1)\n",
    "#八进制\n",
    "a2 = 0o71\n",
    "print(a2)\n",
    "#十六进制\n",
    "a3 = 0xffff\n",
    "print(a3)\n",
    "\n",
    "#科学计数法\n",
    "a4 = 1.84e2\n",
    "print(a4)"
   ]
  },
  {
   "cell_type": "markdown",
   "metadata": {},
   "source": [
    "# 布尔值\n",
    "- 布尔值就是用来表示真假的值\n",
    "- 只有两个值：True/False\n",
    "- 在python中，布尔值可以当数字使用\n",
    "  - 布尔值当数字使用：True=1 , False=0\n",
    "  - 数字当作布尔值使用：0=False,其余当作True"
   ]
  },
  {
   "cell_type": "code",
   "execution_count": 1,
   "metadata": {},
   "outputs": [
    {
     "name": "stdout",
     "output_type": "stream",
     "text": [
      "19\n",
      "18\n",
      "负数是True\n"
     ]
    }
   ],
   "source": [
    "#布尔值当作数字使用\n",
    "age = 18 + True\n",
    "print(age)\n",
    "age = 18 + False\n",
    "print(age)\n",
    "#判断语句\n",
    "a = -1\n",
    "if a:\n",
    "    print(\"负数是True\")\n",
    "else:\n",
    "    print(\"负数是False\")"
   ]
  },
  {
   "cell_type": "markdown",
   "metadata": {},
   "source": [
    "# 字符串\n",
    "- 表达文字信息的内容，比如\"人生苦短，我用python\"\n",
    "- 形式上是引号引起来的一段内容\n",
    "- 引号包括\n",
    "  - 单引号\n",
    "  - 双引号\n",
    "  - 三引号，可以用来表示多行信息\n",
    "- 单双引号含义一致"
   ]
  },
  {
   "cell_type": "markdown",
   "metadata": {},
   "source": [
    "# None类型\n",
    "- 表示没有，通常用来站位\n",
    "- 比如返回，用来表示返回一个空"
   ]
  },
  {
   "cell_type": "code",
   "execution_count": 2,
   "metadata": {},
   "outputs": [
    {
     "name": "stdout",
     "output_type": "stream",
     "text": [
      "45 10\n"
     ]
    }
   ],
   "source": [
    "a = 10\n",
    "b = 45\n",
    "# 对 a,b值进行互换，python独门秘籍：\n",
    "a,b = b,a\n",
    "print(a,b)"
   ]
  }
 ],
 "metadata": {
  "kernelspec": {
   "display_name": "Python 3",
   "language": "python",
   "name": "python3"
  },
  "language_info": {
   "codemirror_mode": {
    "name": "ipython",
    "version": 3
   },
   "file_extension": ".py",
   "mimetype": "text/x-python",
   "name": "python",
   "nbconvert_exporter": "python",
   "pygments_lexer": "ipython3",
   "version": "3.7.4"
  }
 },
 "nbformat": 4,
 "nbformat_minor": 2
}
