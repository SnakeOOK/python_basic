{
 "cells": [
  {
   "cell_type": "markdown",
   "metadata": {},
   "source": [
    "# 面向对象的三大特征\n",
    "- 继承\n",
    "- 封装\n",
    "- 多态"
   ]
  },
  {
   "cell_type": "markdown",
   "metadata": {},
   "source": [
    "# 继承\n",
    "- 子类可以使用父类定义的内容或行为等\n",
    "- 继承的实现\n",
    "  - 父类，基类，超类：被继承的类，Base Class,Super Class\n",
    "  - 子类：有继承行为的类\n",
    "  - 所有类都必须有一个父类，若没有则默认是object的子类\n",
    "  - 子类可以有多个父类\n",
    "- issubclass:用来检测两个类的父子关系"
   ]
  },
  {
   "cell_type": "code",
   "execution_count": 1,
   "metadata": {},
   "outputs": [
    {
     "name": "stdout",
     "output_type": "stream",
     "text": [
      "kk\n"
     ]
    }
   ],
   "source": [
    "class Person():\n",
    "    name = 'kk'\n",
    "    age = 0\n",
    "    \n",
    "#父类写在类定义时的括号里\n",
    "class Student(Person):\n",
    "    pass\n",
    "\n",
    "t = Student()\n",
    "print(t.name)"
   ]
  },
  {
   "cell_type": "code",
   "execution_count": null,
   "metadata": {},
   "outputs": [],
   "source": []
  }
 ],
 "metadata": {
  "kernelspec": {
   "display_name": "Python 3",
   "language": "python",
   "name": "python3"
  },
  "language_info": {
   "codemirror_mode": {
    "name": "ipython",
    "version": 3
   },
   "file_extension": ".py",
   "mimetype": "text/x-python",
   "name": "python",
   "nbconvert_exporter": "python",
   "pygments_lexer": "ipython3",
   "version": "3.7.4"
  }
 },
 "nbformat": 4,
 "nbformat_minor": 2
}
