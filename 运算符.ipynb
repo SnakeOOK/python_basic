{
 "cells": [
  {
   "cell_type": "markdown",
   "metadata": {},
   "source": [
    "# 运算符\n",
    "- 由一个以上的值经过一系列的运算得到新值的过程就叫运算\n",
    "- 用来操作运算的符号叫运算符\n",
    "- 运算符分类\n",
    "  - 算数运算符\n",
    "  - 比较或者关系运算符\n",
    "  - 赋值运算符\n",
    "  - 逻辑运算符\n",
    "  - 位运算\n",
    "  - 成员运算符\n",
    "  - 身份运算符"
   ]
  },
  {
   "cell_type": "markdown",
   "metadata": {},
   "source": [
    "# 算数运算符\n",
    "- 用来进行算数运算的符号\n",
    "- 通常用来表示加减乘除\n",
    "- python没有自增自减运算符\"+ + ,- -\""
   ]
  },
  {
   "cell_type": "code",
   "execution_count": 2,
   "metadata": {},
   "outputs": [
    {
     "name": "stdout",
     "output_type": "stream",
     "text": [
      "4.5\n",
      "4\n",
      "1\n",
      "-3\n"
     ]
    }
   ],
   "source": [
    "#算数运算符案例\n",
    "#加减乘除跟数学意义基本一致\n",
    "#正常除法\n",
    "a = 9 / 2\n",
    "print(a)\n",
    "#地板除（取整）\n",
    "a = 9 // 2\n",
    "print(a)\n",
    "#取余\n",
    "a = 9 % 2\n",
    "print(a)\n",
    "a = 9 % -4\n",
    "print(a)"
   ]
  },
  {
   "cell_type": "markdown",
   "metadata": {},
   "source": [
    "# 比较运算符\n",
    "- 对两个内容进行比较的运算符\n",
    "- 结果一定是布尔值，即 True/False"
   ]
  },
  {
   "cell_type": "code",
   "execution_count": 3,
   "metadata": {},
   "outputs": [
    {
     "name": "stdout",
     "output_type": "stream",
     "text": [
      "False\n",
      "True\n",
      "False\n"
     ]
    }
   ],
   "source": [
    "# 等于 ==\n",
    "a = 3 == 4\n",
    "print(a)\n",
    "\n",
    "# 不等于 !=\n",
    "a = 3!= 4\n",
    "print(a)\n",
    "\n",
    "# 其他的符号是\n",
    "# > , >= , < , <=\n",
    "print(3 >= 7)"
   ]
  },
  {
   "cell_type": "markdown",
   "metadata": {},
   "source": [
    "# 赋值运算符\n",
    "- 把一个值放在变量里边去"
   ]
  },
  {
   "cell_type": "code",
   "execution_count": 5,
   "metadata": {},
   "outputs": [],
   "source": [
    "# 赋值符号 =\n",
    "a = b =7\n",
    "a,b = 1,2\n",
    "# 所有数学运算符都可以缩写\n",
    "# -= , *= , /= , //= , %= , **=,都是缩写形式\n",
    "#python里没有 ++ ，--"
   ]
  },
  {
   "cell_type": "markdown",
   "metadata": {},
   "source": [
    "# 逻辑运算符\n",
    "- 对布尔类型变量或者值进行运算的符号\n",
    "- and: 逻辑与\n",
    "- or: 逻辑或\n",
    "- not: 逻辑非\n",
    "- python里面的逻辑运算没有异或\n",
    "- 运算规则：\n",
    "  - and看做乘法，or看做加法\n",
    "  - True看做1 ，False看做0\n",
    "  - 则逻辑运算就能转换成整数数学运算\n",
    "  - 最后结果如果为0则为False，否则为True\n",
    "- 逻辑运算的短路问题\n",
    "  - 逻辑运算式，按照运算顺序计算，一旦能够确定整个式子未来的值，\n",
    "  - 则不再进行计算，直接返回"
   ]
  },
  {
   "cell_type": "code",
   "execution_count": 6,
   "metadata": {},
   "outputs": [
    {
     "name": "stdout",
     "output_type": "stream",
     "text": [
      "True\n",
      "False\n"
     ]
    }
   ],
   "source": [
    "# 逻辑表达举例\n",
    "a = True\n",
    "b = True\n",
    "c = False\n",
    "\n",
    "aa = a and b #相当于 1*1\n",
    "print(aa)\n",
    "\n",
    "bb = a and c\n",
    "print(bb)"
   ]
  },
  {
   "cell_type": "code",
   "execution_count": 7,
   "metadata": {},
   "outputs": [
    {
     "name": "stdout",
     "output_type": "stream",
     "text": [
      "True\n"
     ]
    }
   ],
   "source": [
    "#短路问题案例\n",
    "a = True\n",
    "b = True\n",
    "c = False\n",
    "aa = a or b and (a and b) #相当于 1 + ... (...>=0)\n",
    "print(aa)"
   ]
  },
  {
   "cell_type": "code",
   "execution_count": 1,
   "metadata": {},
   "outputs": [
    {
     "name": "stdout",
     "output_type": "stream",
     "text": [
      "a\n",
      "b\n",
      "AAAAAA\n",
      "********************\n",
      "a\n",
      "BBBBBB\n"
     ]
    }
   ],
   "source": [
    "#短路问题案例 2\n",
    "def a():\n",
    "    print('a')\n",
    "    return True\n",
    "def b():\n",
    "    print('b')\n",
    "    return True\n",
    "if a() and b():\n",
    "    print('AAAAAA')\n",
    "print('*' * 20)\n",
    "if a() or b(): #短路发生\n",
    "    print('BBBBBB')"
   ]
  },
  {
   "cell_type": "markdown",
   "metadata": {},
   "source": [
    "# 成员运算符\n",
    "- 用来检测一个值或者变量是否在某个集合里面\n",
    "- in:在里面\n",
    "- not in:不在里面"
   ]
  },
  {
   "cell_type": "code",
   "execution_count": 3,
   "metadata": {},
   "outputs": [
    {
     "name": "stdout",
     "output_type": "stream",
     "text": [
      "False\n",
      "True\n"
     ]
    }
   ],
   "source": [
    "L = [1,2,3,4,5]\n",
    "a = 7\n",
    "b = a is L\n",
    "print(b)\n",
    "c = a not in L\n",
    "print(c)"
   ]
  },
  {
   "cell_type": "markdown",
   "metadata": {},
   "source": [
    "# 身份运算符\n",
    "- 用来确定两个变量是否是同一变量\n",
    "- is:是\n",
    "- is not:不是\n",
    "- 对整数N\\in[-5,256],解释器对它们做了单独处理，放进了固定内存中\n",
    "- 不会因为每次运行而变化"
   ]
  },
  {
   "cell_type": "code",
   "execution_count": 4,
   "metadata": {},
   "outputs": [
    {
     "name": "stdout",
     "output_type": "stream",
     "text": [
      "False\n",
      "False\n",
      "True\n"
     ]
    }
   ],
   "source": [
    "a = 1\n",
    "b =1000000334423\n",
    "aa = a is b\n",
    "print(aa)\n",
    "\n",
    "#a,b仅仅是值一样，并不代表 a,b是一个变量\n",
    "a = 1000003456\n",
    "b = 1000003456\n",
    "aa = a is b\n",
    "print(aa)\n",
    "a = 5\n",
    "b = 5\n",
    "aa = a is b\n",
    "print(aa)"
   ]
  },
  {
   "cell_type": "markdown",
   "metadata": {},
   "source": [
    "# 运算符优先级问题\n",
    "- 小括号优先级最高"
   ]
  }
 ],
 "metadata": {
  "kernelspec": {
   "display_name": "Python 3",
   "language": "python",
   "name": "python3"
  },
  "language_info": {
   "codemirror_mode": {
    "name": "ipython",
    "version": 3
   },
   "file_extension": ".py",
   "mimetype": "text/x-python",
   "name": "python",
   "nbconvert_exporter": "python",
   "pygments_lexer": "ipython3",
   "version": "3.7.4"
  }
 },
 "nbformat": 4,
 "nbformat_minor": 2
}
