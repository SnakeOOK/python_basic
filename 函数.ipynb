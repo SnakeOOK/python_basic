{
 "cells": [
  {
   "cell_type": "markdown",
   "metadata": {},
   "source": [
    "# 函数\n",
    "- 函数是代码的一种组织形式\n",
    "- 函数应该能完成一项特定的工作，而且一般一个函数值完成一项工作\n",
    "- 有些语言，分函数和过程两个概念，通俗解释是：有返回结果的叫函数，无返回结果的叫过程，  python不加以区分\n",
    "- 函数的使用\n",
    "  - 函数使用需要先定义\n",
    "  - 使用函数，俗称调用"
   ]
  },
  {
   "cell_type": "code",
   "execution_count": 1,
   "metadata": {},
   "outputs": [
    {
     "name": "stdout",
     "output_type": "stream",
     "text": [
      "9\n"
     ]
    }
   ],
   "source": [
    "\"\"\"\n",
    "定义一个函数\n",
    "只是定义的话不会执行\n",
    "1.def关键字，后跟一个空格\n",
    "2.函数名，自己定义，起名需遵循命名规则，约定俗成，大驼峰命名只给类用\n",
    "3.后面括号和冒号不能省，括号内可以有参数\n",
    "4.函数内所有代码缩进\n",
    "标准格式：\n",
    "def fun(parse):\n",
    "    ...\n",
    "    return xx\n",
    "\"\"\"\n",
    "#示例：\n",
    "def Add(q,w):\n",
    "    c = q + w\n",
    "    return c\n",
    "\n",
    "print(Add(7,2))"
   ]
  },
  {
   "cell_type": "markdown",
   "metadata": {},
   "source": [
    "# 函数的参数和返回值\n",
    "- 参数：负责给函数传递一些必要的数据或者信息\n",
    "  - 形参（形式参数）：在函数定义的时候用到的参数，没有具体值。\n",
    "  - 实参（实际参数）：在调用函数的时候输入的值\n",
    "- 返回值：调用函数的时候的一个执行结果\n",
    "  - 使用return返回结果\n",
    "  - 如果没有值返回，推荐使用return None表示函数结束\n",
    "  - 函数一旦执行return，则函数立即结束\n",
    "  - 如果函数没有return关键字，则函数默认返回None\n",
    "\n",
    "# 参数详解\n",
    "- 参数分类\n",
    "  - 普通参数/位置参数\n",
    "  - 默认参数\n",
    "  - 关键字参数\n",
    "  - 收集参数"
   ]
  },
  {
   "cell_type": "markdown",
   "metadata": {},
   "source": [
    "# 递归函数\n",
    "- 递归：函数间接或直接调用自己\n",
    "- 递归分两个过程\n",
    "  - 往下调用，分解的过程\n",
    "  - 往上调用，综合的过程\n",
    "- 递归需要注意\n",
    "  - 一定要有结束条件\n",
    "- 是以资源换取编写速度的算法\n",
    "  - 占内存且运行速度慢，一般不使用\n"
   ]
  }
 ],
 "metadata": {
  "kernelspec": {
   "display_name": "Python 3",
   "language": "python",
   "name": "python3"
  },
  "language_info": {
   "codemirror_mode": {
    "name": "ipython",
    "version": 3
   },
   "file_extension": ".py",
   "mimetype": "text/x-python",
   "name": "python",
   "nbconvert_exporter": "python",
   "pygments_lexer": "ipython3",
   "version": "3.7.4"
  }
 },
 "nbformat": 4,
 "nbformat_minor": 2
}
