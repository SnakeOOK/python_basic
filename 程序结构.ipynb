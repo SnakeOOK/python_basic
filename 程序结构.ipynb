{
 "cells": [
  {
   "cell_type": "markdown",
   "metadata": {},
   "source": [
    "# 程序结构\n",
    "- 程序三种结构\n",
    "    - 顺序\n",
    "    - 循环\n",
    "    - 分支"
   ]
  },
  {
   "cell_type": "markdown",
   "metadata": {},
   "source": [
    "# 分支结构\n",
    "- if elif else语句\n",
    "- elif、else语句是可选的\n",
    "- 条件表达式的计算结果必须为布尔类型"
   ]
  },
  {
   "cell_type": "markdown",
   "metadata": {},
   "source": [
    "# 循环结构\n",
    "## for 循环\n",
    "- 要设定具体循环次数\n",
    "- for-else语句：for循环结束时，执行一些收尾工作（没啥用）\n",
    "- else语句是可选的\n",
    "## while 循环\n",
    "- 先判断条件并满足条件再循环\n",
    "- 适用于具体循环次数未知，但满足某个条件就开始循环的时候\n",
    "\n"
   ]
  },
  {
   "cell_type": "markdown",
   "metadata": {},
   "source": [
    "# break , continue , pass\n",
    "- break:无条件结束整个循环，简称循环猝死\n",
    "- continue:结束本次循环，继续下次循环\n",
    "- pass:占位符（占着一个位置啥也不干）"
   ]
  },
  {
   "cell_type": "code",
   "execution_count": 9,
   "metadata": {},
   "outputs": [
    {
     "name": "stdout",
     "output_type": "stream",
     "text": [
      "7\n",
      "*******\n",
      "2\n",
      "4\n",
      "6\n",
      "8\n",
      "10\n",
      "没想好怎么写，哈哈\n"
     ]
    }
   ],
   "source": [
    "# 一般在python中，表示范围的数组区间都是[,),randint函数是个特例\n",
    "# 在 1-10里找到 7 并输出\n",
    "for i in range(1,11):\n",
    "    if i == 7:\n",
    "        print(i)\n",
    "        break\n",
    "print('*' * 7)\n",
    "# 输出 1-10中的偶数\n",
    "for i in range(1,11):\n",
    "    if i % 2 == 1:\n",
    "        continue\n",
    "    print(i)\n",
    "# 占位符的使用\n",
    "a = 7\n",
    "if a > 7:\n",
    "    pass\n",
    "else:\n",
    "    print(\"没想好怎么写，哈哈\")"
   ]
  },
  {
   "cell_type": "code",
   "execution_count": 10,
   "metadata": {},
   "outputs": [
    {
     "name": "stdout",
     "output_type": "stream",
     "text": [
      "12\n"
     ]
    }
   ],
   "source": [
    "money = 10000\n",
    "year = 0\n",
    "while money < 20000:\n",
    "    money = money * (1 + 0.065)\n",
    "    year += 1\n",
    "print(year)"
   ]
  }
 ],
 "metadata": {
  "kernelspec": {
   "display_name": "Python 3",
   "language": "python",
   "name": "python3"
  },
  "language_info": {
   "codemirror_mode": {
    "name": "ipython",
    "version": 3
   },
   "file_extension": ".py",
   "mimetype": "text/x-python",
   "name": "python",
   "nbconvert_exporter": "python",
   "pygments_lexer": "ipython3",
   "version": "3.7.4"
  }
 },
 "nbformat": 4,
 "nbformat_minor": 2
}
