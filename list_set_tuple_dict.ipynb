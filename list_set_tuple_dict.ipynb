{
 "cells": [
  {
   "cell_type": "markdown",
   "metadata": {},
   "source": [
    "# tuple （元组）\n",
    "- 可以理解为无法更改的列表"
   ]
  },
  {
   "cell_type": "code",
   "execution_count": 7,
   "metadata": {
    "scrolled": true
   },
   "outputs": [
    {
     "name": "stdout",
     "output_type": "stream",
     "text": [
      "<class 'tuple'>\n",
      "<class 'int'>\n",
      "<class 'tuple'>\n",
      "*****************\n",
      "<class 'tuple'>\n",
      "<class 'tuple'>\n",
      "()\n",
      "(1, 2, 3, 'hh')\n"
     ]
    }
   ],
   "source": [
    "# 1.直接用括号创建\n",
    "q = (1,2,3)\n",
    "print(type(q))\n",
    "w = (1)\n",
    "print(type(w))\n",
    "e = (1,)\n",
    "print(type(e))\n",
    "print('*'*17)\n",
    "# 2.直接用逗号创建\n",
    "a = 1,2,3\n",
    "print(type(a))\n",
    "b = 1,\n",
    "print(type(b))\n",
    "# 3.使用tuple定义\n",
    "d = tuple()\n",
    "print(d)\n",
    "li = [1,2,3,'hh']\n",
    "f = tuple(li) #要求tuple参数必须可迭代\n",
    "print(f)"
   ]
  },
  {
   "cell_type": "markdown",
   "metadata": {},
   "source": [
    "# 集合\n",
    "- 跟数学中集合的概念一致\n",
    "- 内容无序\n",
    "- 内容不重复\n",
    "- 定义方法：\n",
    "  - 通过set关键字定义\n",
    "  - 通过{}定义\n",
    "# frozenset 冰冻集合\n",
    "- 不允许修改的集合"
   ]
  },
  {
   "cell_type": "code",
   "execution_count": 8,
   "metadata": {},
   "outputs": [
    {
     "name": "stdout",
     "output_type": "stream",
     "text": [
      "frozenset({5, 6, 7, 8, 9})\n"
     ]
    }
   ],
   "source": [
    "# frozenset 案例\n",
    "s = {9,8,7,6,5}\n",
    "k = frozenset(s)\n",
    "print(k)"
   ]
  }
 ],
 "metadata": {
  "kernelspec": {
   "display_name": "Python 3",
   "language": "python",
   "name": "python3"
  },
  "language_info": {
   "codemirror_mode": {
    "name": "ipython",
    "version": 3
   },
   "file_extension": ".py",
   "mimetype": "text/x-python",
   "name": "python",
   "nbconvert_exporter": "python",
   "pygments_lexer": "ipython3",
   "version": "3.7.4"
  }
 },
 "nbformat": 4,
 "nbformat_minor": 2
}
